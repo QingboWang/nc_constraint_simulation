{
  "nbformat": 4,
  "nbformat_minor": 0,
  "metadata": {
    "colab": {
      "name": "nc_constraint_simulation.ipynb",
      "provenance": [],
      "authorship_tag": "ABX9TyOquMPzQin8GSzmGJubPKXh",
      "include_colab_link": true
    },
    "kernelspec": {
      "name": "python3",
      "display_name": "Python 3"
    },
    "language_info": {
      "name": "python"
    }
  },
  "cells": [
    {
      "cell_type": "markdown",
      "metadata": {
        "id": "view-in-github",
        "colab_type": "text"
      },
      "source": [
        "<a href=\"https://colab.research.google.com/github/QingboWang/nc_constraint_simulation/blob/main/nc_constraint_simulation.ipynb\" target=\"_parent\"><img src=\"https://colab.research.google.com/assets/colab-badge.svg\" alt=\"Open In Colab\"/></a>"
      ]
    },
    {
      "cell_type": "markdown",
      "metadata": {
        "id": "praIGAN54i2f"
      },
      "source": [
        "#**non-coding constraint power simulator**"
      ]
    },
    {
      "cell_type": "markdown",
      "metadata": {
        "id": "QfgkBpV4qaTp"
      },
      "source": [
        "# Users can specify the parameters in the form below to simulate the observed and expected number of mutations in non-overlapping windows:\n",
        "\n",
        "(put your desired values for the parameters, and run the cell.)"
      ]
    },
    {
      "cell_type": "code",
      "metadata": {
        "cellView": "form",
        "id": "BkvZ2WfMpraQ"
      },
      "source": [
        "#@Parameter setting for simulation:\n",
        "N_sample_size = 76156 #@param {type:\"number\"}\n",
        "r_mutation_rate_prediction_accuracy = 0.9 #@param {type:\"number\"}\n",
        "L_size_of_window = 100 #@param {type:\"number\"}\n",
        "x_proportion_of_constrained_bp = 0.001 #@param {type:\"number\"}\n",
        "u_size_of_constrained_elements = 50 #@param {type:\"number\"}\n",
        "s_strength_of_constraint = 0.9 #@param {type:\"number\"}\n",
        "m_model_resolution = 0.05 #@param {type:\"number\"}\n",
        "seed_random_seed = 1 #@param {type:\"number\"}"
      ],
      "execution_count": 9,
      "outputs": []
    },
    {
      "cell_type": "markdown",
      "metadata": {
        "id": "tQBODR3JuLn6"
      },
      "source": [
        "* We recommend keeping the model resolution m to 0.05. \n",
        "Higher value would reduce the noise but may result in long computation.\n",
        "* u=<L needs to be satisfied by definition\n",
        "* L*x /u < 1 needs to be satisfied by definition\n",
        "* sample size >200x larger, or <100x smaller than than that of gnomAD (=76156) might result in violation of the assumption\n",
        "* 0=<r=<1 and 0=<s=<1 by definition\n",
        "\n",
        "For more explanation of the parameter, please check the github page "
      ]
    },
    {
      "cell_type": "markdown",
      "metadata": {
        "id": "I-GX68NjtItR"
      },
      "source": [
        "# Then by running the cell below, users can perform power calculation, including the visualization of Receiver-Operator Characteristics Curve (ROC) and Precision-Recall Curve (PRC)."
      ]
    },
    {
      "cell_type": "code",
      "metadata": {
        "colab": {
          "base_uri": "https://localhost:8080/",
          "height": 591
        },
        "cellView": "form",
        "id": "I65f4M0Vn_L6",
        "outputId": "4894b734-e613-4c74-d2ed-d45ccec1fe10"
      },
      "source": [
        "#@title Run this cell to perform constraint simulation.\n",
        "#importing the tools and and defining the functions:\n",
        "\n",
        "from matplotlib import pyplot as plt\n",
        "from matplotlib import cm\n",
        "from scipy import stats\n",
        "import numpy as np\n",
        "import pandas as pd\n",
        "plt.rcParams.update({'font.size': 14})\n",
        "#plt.rcParams['font.sans-serif'] = \"Arial\"\n",
        "#plt.rcParams['font.family'] = \"sans-serif\"\n",
        "from sklearn.metrics import precision_recall_curve\n",
        "from sklearn import metrics\n",
        "from sklearn.metrics import roc_auc_score, average_precision_score\n",
        "import time as tm\n",
        "\n",
        "\n",
        "def simulate_oe(G=10**8, N=76156, x=0.001, u=50, L=100, r=0.9, s=0.9, seed=1):\n",
        "    # G: genome size (3*10^9 in humans)\n",
        "    # N: sample size (we know from gnomAD paper that the num. observed scales roughly with sqrt(N))\n",
        "    # x: proportion of constrained base pairs\n",
        "    # u: unit of constraint (= size of constrained chunk in each constrained window)\n",
        "    # L: size of window\n",
        "    # r: pearson correlation between the estimated lambdas in the model and the real lambdas\n",
        "    # s: strength of constraint\n",
        "    # we are assuming that each N bp window have a single parameter lambda(N) that represents the mutation rate in the window\n",
        "    # so the observed (undel null) would be a draw from Poisson(lambda(N))\n",
        "    # (rational: each posision has a poisson parameter, and assuming independence, sum of poisson is another poisson)\n",
        "    # The \"observed\" in reality would be a draw from Poisson(lambda(N)*(1-constraint)*L*x/u) if constrained,\n",
        "    # and is a draw from Poisson(lambda(N)) if unconstrained\n",
        "    # The \"expected\" would be lambda(N) + (noise due to prediction model inaccuracy)\n",
        "    # and we are also assuming that the lambdas are normally distributed, and we are getting the distribution by looking at gnomAD data\n",
        "    np.random.seed(seed)\n",
        "    # generate the distribution of n(SNVs) (=lambda) under null\n",
        "    # To do so, use the linear fit from gnomAD distribution (hard coded here.)\n",
        "    (alpha_1, beta_1) = (0.99819644, -0.7018248652835526)  \n",
        "    (alpha_2, beta_2) = (0.82595302, -0.8713417763964679)\n",
        "    mu_gnomad = 10**(alpha_1 * np.log10(L) + beta_1) * np.sqrt(N/76156)\n",
        "    sigma_gnomad = 10**(alpha_2 * np.log10(L) + beta_2) * np.sqrt(np.sqrt(N/76156))\n",
        "\n",
        "    # then subtract the variance due to poisson draw to get the mean and var of lambdas\n",
        "    mu = mu_gnomad\n",
        "    if sigma_gnomad ** 2 - mu < 0:\n",
        "        print (\"N too small, simulation instable\")\n",
        "    else:\n",
        "        sigma = np.sqrt(sigma_gnomad ** 2 - mu)\n",
        "\n",
        "    C = int(np.floor(G / L))  # The number of chunks\n",
        "    lambda_vec = np.random.normal(mu, sigma, C)\n",
        "    lambda_vec = lambda_vec.clip(min=0)  # render to zero if negative\n",
        "    # generate expected:\n",
        "    # sigma_exp = np.sqrt(lambda_vec*(1/r**2 - 1)) #sd of the error term\n",
        "    sigma_exp = sigma * np.sqrt(1 / r ** 2 - 1)  # sd of the error term\n",
        "    err_vec = np.random.normal(0, sigma_exp, C)  # The error terms that adds on to the \"expected\"\n",
        "    M_exp = lambda_vec + err_vec  # \"expected\" = real + error\n",
        "    M_exp = M_exp.clip(min=0)  # render to zero if negative\n",
        "    # generate observed:\n",
        "    p = L * x / u  # prob. of being constrained:\n",
        "    is_constrained = np.random.binomial(1, p, C)  # binary indicator for whether it is constrained\n",
        "    lambda_obs = lambda_vec * (1 - is_constrained * s * u / L)  # Let the constraint take effect on lambda for observed\n",
        "    lambda_obs = lambda_obs.clip(min=0)  # render to zero if negative\n",
        "    M_obs = np.random.poisson(lambda_obs, C)  # our actual \"observed\" = a poisson draw from lambda_obs\n",
        "    # calculate oe and return the result\n",
        "    oe = (M_obs + 1) / (M_exp + 1)  # +1 to offset 0s\n",
        "    df = pd.DataFrame({\"null\": lambda_vec, \"obs\": M_obs, \"exp\": M_exp, \"oe\": oe, \"is_constrained\": is_constrained})\n",
        "    return (df)\n",
        "\n",
        "def plot_and_print_roc(df):\n",
        "  plt.figure(figsize=(6,4))\n",
        "  oe = df.oe\n",
        "  is_constrained = df.is_constrained\n",
        "  fpr, tpr, thresholds = metrics.roc_curve(is_constrained, 1/oe)\n",
        "  plt.plot(fpr, tpr)\n",
        "  plt.xlabel(\"False positive rate\")\n",
        "  plt.ylabel(\"True positive rate\")\n",
        "  plt.show()\n",
        "  auroc = roc_auc_score(is_constrained, 1/oe)\n",
        "  print (\"AUROC: {0}\".format(auroc))\n",
        "\n",
        "#prc\n",
        "def plot_and_print_prc(df):\n",
        "  plt.figure(figsize=(6,4))\n",
        "  oe = df.oe\n",
        "  is_constrained = df.is_constrained\n",
        "  precision, recall, thresholds = precision_recall_curve(is_constrained, 1/oe)\n",
        "  plt.plot(recall, precision)\n",
        "  plt.xlabel(\"Recall\")\n",
        "  plt.ylabel(\"Precision\")\n",
        "  plt.show()\n",
        "  auprc = average_precision_score(is_constrained, 1/oe)\n",
        "  print (\"AUPRC: {0}\".format(auprc))\n",
        "\n",
        "\n",
        "#take the user-specified parameters:\n",
        "G = 3*10**9 * m_model_resolution\n",
        "N = N_sample_size\n",
        "x = x_proportion_of_constrained_bp\n",
        "u = u_size_of_constrained_elements\n",
        "L = L_size_of_window\n",
        "r = r_mutation_rate_prediction_accuracy\n",
        "s = s_strength_of_constraint\n",
        "seed = seed_random_seed\n",
        "\n",
        "#generate o/e for simulation\n",
        "df = simulate_oe(G, N, x, u, L, r, s, seed)\n",
        "\n",
        "#plot ROC\n",
        "plot_and_print_roc(df)\n",
        "#plot PRC\n",
        "plot_and_print_prc(df)"
      ],
      "execution_count": 20,
      "outputs": [
        {
          "output_type": "display_data",
          "data": {
            "image/png": "[encoded data removed]",
            "text/plain": [
              "<Figure size 432x288 with 1 Axes>"
            ]
          },
          "metadata": {
            "tags": [],
            "needs_background": "light"
          }
        },
        {
          "output_type": "stream",
          "text": [
            "AUROC: 0.9247672739937888\n"
          ],
          "name": "stdout"
        },
        {
          "output_type": "display_data",
          "data": {
            "image/png": "[encoded data removed]",
            "text/plain": [
              "<Figure size 432x288 with 1 Axes>"
            ]
          },
          "metadata": {
            "tags": [],
            "needs_background": "light"
          }
        },
        {
          "output_type": "stream",
          "text": [
            "AUPRC: 0.06362678119919199\n"
          ],
          "name": "stdout"
        }
      ]
    }
  ]
}